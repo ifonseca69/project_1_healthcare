#Just trying out some data visualization


import pandas as pd

# Load the cleaned dataset
df = pd.read_csv('Cleaned_HealthData.csv')

# overview of the data
print(df.head())
print(df.describe())


# Could not figure out why I kept getting the same FutureWarning so I turned it off
import warnings
warnings.filterwarnings("ignore", category=FutureWarning)


import seaborn as sns
import matplotlib.pyplot as plt

# Use seaborn to plot trends by CauseOfDeath and Sex
g = sns.FacetGrid(df, col="CauseOfDeath", hue="Sex", col_wrap=4, height=4, aspect=1.5)

# Map the data to line plots
g.map(sns.lineplot, "Year", "MortalityRate")

# Add a title and adjust the layout
g.add_legend(title="Sex")
g.set_axis_labels("Year", "Mortality Rate")
g.fig.suptitle('Trends in Mortality Rates Over Time by Cause of Death and Sex', y=1.02)

# Show the plots
plt.show()


import numpy as np

# Set a random seed
np.random.seed(35)

# Get a random state from the dataset
random_state = np.random.choice(df['State'].unique())

# Filter the DataFrame for this random state
state_df = df[df['State'] == random_state]

print(f"Selected State: {random_state}")


# Use seaborn to plot trends by CauseOfDeath and Sex for the random state
g = sns.FacetGrid(state_df, col="CauseOfDeath", hue="Sex", col_wrap=4, height=4, aspect=1.5)

# Map the data to line plots
g.map(sns.lineplot, "Year", "MortalityRate")

# Add a title and adjust the layout
g.add_legend(title="Sex")
g.set_axis_labels("Year", "Mortality Rate")
g.fig.suptitle(f'Trends in Mortality Rates Over Time by Cause of Death and Sex in {random_state}', y=1.02)

# Show the plots
plt.show()


# Filter the DataFrame for the cause of death "All heart disease"
heart_disease_df = df[df['CauseOfDeath'] == 'All heart disease']


# Use seaborn to plot trends by Race and Sex for "All heart disease"
g = sns.FacetGrid(heart_disease_df, col="Race", hue="Sex", col_wrap=4, height=4, aspect=1.5)

# Map the data to line plots
g.map(sns.lineplot, "Year", "MortalityRate")

# Add a title and adjust the layout
g.add_legend(title="Sex")
g.set_axis_labels("Year", "Mortality Rate")
g.fig.suptitle('Trends in Mortality Rates Over Time by Race and Sex for All Heart Disease', y=1.02)

# Show the plots
plt.show()


# Select only the relevant numeric columns
selected_columns = ['Year', 'MortalityRate', 'LocationID']
correlation_matrix = df[selected_columns].corr()

# Display the correlation matrix
print(correlation_matrix)


# Plot the correlation matrix as a heatmap
plt.figure(figsize=(6, 4))
sns.heatmap(correlation_matrix, annot=True, cmap='coolwarm', center=0, fmt=".2f")
plt.title('Correlation Matrix for Selected Columns')
plt.show()


# Adding the demographics into the correlation
# Chatgpt helped me figure this out
df_encoded = pd.get_dummies(df[['Race', 'Sex', 'AgeGroup']])

# Combine with the numeric columns
df_combined = pd.concat([df[selected_columns], df_encoded], axis=1)

# Calculate the correlation matrix
correlation_matrix_combined = df_combined.corr()

# Display correlations with MortalityRate
correlations_with_mortality = correlation_matrix_combined['MortalityRate'].sort_values(ascending=False)
print("Correlations with Mortality Rate:")
print(correlations_with_mortality)


plt.figure(figsize=(12, 10))
sns.heatmap(correlation_matrix_combined, annot=True, cmap='coolwarm', center=0, fmt=".2f")
plt.title('Correlation Matrix Including Demographic Variables')
plt.show()



