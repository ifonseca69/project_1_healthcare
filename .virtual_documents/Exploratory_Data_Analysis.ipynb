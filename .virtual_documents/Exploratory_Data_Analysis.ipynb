


# Import the required libraries and dependencies
import pandas as pd
import datetime as dt
import numpy as np
import seaborn as sns
import matplotlib.pyplot as plt
import datetime
from sklearn.model_selection import train_test_split
from sklearn.linear_model import LinearRegression
import matplotlib.pyplot as plt


# Define the path to the CSV file
data_path = "Resources/HealthData.csv"


# Load the data without specifying dtype for problematic columns
df = pd.read_csv(
    data_path,
    dtype={
        'LocationAbbr': 'str',
        'LocationDesc': 'str',
        'GeographicLevel': 'str',
        'DataSource': 'str',
        'Class': 'str',
        'Topic': 'str',
        'Data_Value': 'float64',  
        'Data_Value_Type': 'str',
        'Data_Value_Footnote_Symbol': 'str',
        'Data_Value_Footnote': 'str',
        'Confidence_limit_Low': 'float64',
        'Confidence_limit_High': 'float64',
        'StratificationCategory1': 'str',
        'Stratification1': 'str',
        'StratificationCategory2': 'str',
        'Stratification2': 'str',
        'StratificationCategory3': 'str',
        'Stratification3': 'str',
        'LocationID': 'int64'  # Assuming it's an integer
    },
    low_memory=False
)


# Check for missing values
print(df.isnull().sum())


# Columns with known missing data that are critical for analysis
critical_columns_with_missing_data = [
    'Data_Value',
    'Confidence_limit_Low',
    'Confidence_limit_High'
]

# Filter out rows with missing critical data
df_filtered = df.dropna(subset=critical_columns_with_missing_data)

# Display the filtered DataFrame to verify
df_filtered


print(df_filtered.isnull().sum())


# Drop the columns with only missing values
columns_to_drop = ['Data_Value_Footnote_Symbol', 'Data_Value_Footnote']
df_cleaned = df_filtered.drop(columns=columns_to_drop)

# Drop the 'DataSource' column, not necessary for analysis 
df_cleaned = df_cleaned.drop(columns=['DataSource'])

# Display the cleaned DataFrame to verify
df_cleaned


# Convert the 'Year' column to numeric, handling errors
# Anaconda Assistant provided this error handling
df_cleaned.loc[:, 'Year'] = pd.to_numeric(df_cleaned['Year'], errors='coerce')

# Drop any rows where 'Year' could not be converted to a valid integer
df_cleaned = df_cleaned.dropna(subset=['Year'])

# Convert 'Year' column to integer type
df_cleaned.loc[:, 'Year'] = df_cleaned['Year'].astype(int)

# Filter the dataset to include only rows from the most recent years (2010-2019)
df_recent_years = df_cleaned[df_cleaned['Year'] >= 2010]

# Check the number of rows in the filtered dataset
print(f"The filtered DataFrame (2010-2019) has {len(df_recent_years)} rows.")


# Check all columns in the DataFrame for unique values
for column in df_recent_years.columns:
    unique_values = df_recent_years[column].unique()
    if len(unique_values) == 1:
        print(f"The '{column}' column has the same value across all rows.")
        print(f"The single value is: {unique_values[0]}")


# List of columns that have the same value across all rows and should be dropped
columns_to_drop = [
    'GeographicLevel', 
    'Class', 
    'Data_Value_Unit', 
    'Data_Value_Type',
    'StratificationCategory1',
    'StratificationCategory2',
    'StratificationCategory3'
]

# Drop the specified columns
df_recent_years = df_recent_years.drop(columns=columns_to_drop)

# Verify the columns have been dropped
print("Remaining columns after dropping non-unique columns:")
print(df_recent_years.columns)


# Check for duplicates
duplicate_rows = df_recent_years.duplicated().sum()
print(f"Number of duplicate rows: {duplicate_rows}")


# Example: Identifying potential outliers in 'Data_Value'
df_recent_years['Data_Value'].describe()


# Filtering out extreme outliers
lower_bound = df_recent_years['Data_Value'].quantile(0.01)
upper_bound = df_recent_years['Data_Value'].quantile(0.99)

df_recent_years = df_recent_years[(df_recent_years['Data_Value'] >= lower_bound) & 
                                  (df_recent_years['Data_Value'] <= upper_bound)]
print(f"After outlier removal, the DataFrame has {len(df_recent_years)} rows.")


# Identify the data types
print(df_recent_years.dtypes)


# Rename the columns
df_recent_years = df_recent_years.rename(columns={
    'LocationAbbr': 'State',
    'LocationDesc': 'County',
    'Topic': 'CauseOfDeath',
    'Data_Value': 'MortalityRate',  # Assuming this represents the rate per 100,000
    'Confidence_limit_Low': 'ConfLow',
    'Confidence_limit_High': 'ConfHigh',
    'Stratification1': 'AgeGroup',
    'Stratification2': 'Race',
    'Stratification3': 'Sex'
})

# Verify the column renaming
print("Columns after renaming:")
print(df_recent_years.columns)


df_recent_years


# Save the cleaned DataFrame to a new CSV file
df_recent_years.to_csv('Resources/Cleaned_HealthData.csv', index=False)


import matplotlib.pyplot as plt
import seaborn as sns

# import data
path = 'Resources/Cleaned_HealthData.csv'
heart = pd.read_csv(path)

# check first five rows:
display(heart.head())
display(heart.tail())


# The count of unique values in the heart DataFrame.
heart.nunique()


print(heart.columns)


# Define your custom color palette
custom_palette = {
    'Men': '#FF0000',    # Light red color
    'Women': '#2ca02c', # Green color 
    'Overall': '#ff7f0e',  # Orange color
}

# Plot the data with the custom color palette
plt.figure(figsize=(14, 7))
sns.boxplot(data=heart, x='AgeGroup', y='MortalityRate', hue='Sex', palette=custom_palette)
plt.title('Mortality Rates by Age Group and Sex')
plt.xlabel('Age Group')
plt.ylabel('Number of Death per 100,000')
plt.legend(title='Sex')
plt.savefig('Output_plot/Mortality Rates by Age Group and Sex.jpg', format='jpg')
plt.show()


# Set 'Year' and 'AgeGroup' as the index
heart.set_index(['Year', 'AgeGroup'], inplace=True)

# Plot the data

plt.figure(figsize=(14, 8))
sns.lineplot(data=heart, x='Year', y='MortalityRate', hue='CauseOfDeath', style='AgeGroup', markers=True, dashes=False)
plt.title('Mortality Rate Trends by Cause of Death and Age Group in the USA')
plt.xlabel('Year')
plt.ylabel('Mortality Rate (per 100,000)')
plt.grid(True)
plt.legend(title='Cause of Death and Age Group')
plt.savefig('Output_plot/Mortality Rate Trends by Cause of Death and Age Group in the USA.jpg', format='jpg')
plt.show()


# Summary statistics
display(heart.groupby('CauseOfDeath')['MortalityRate'].describe())



#@title Your Title Here Trends Over Time
plt.figure(figsize=(14, 7))
sns.lineplot(data=heart, x='Year', y='MortalityRate', hue='CauseOfDeath')
plt.title('Trends in Mortality Rates Over Time')
plt.xlabel('Year')
plt.ylabel('Average of Deaths per 100,000')
plt.savefig('Output_plot/Trends in Mortality Rates Over Time.jpg', format='jpg')
plt.show()



#@title Boxplot by Cause of Death
plt.figure(figsize=(14, 7))
sns.boxplot(data=heart, x='CauseOfDeath', y='MortalityRate')
plt.title('Mortality Rate Distribution by Cause of Death')
plt.xticks(rotation=20)
plt.savefig('Output_plot/Mortality Rate Distribution by Cause of Death.jpg', format='jpg')
plt.show()



#@title Mortality Rates by Sex and Cause of Death
import seaborn as sns
import matplotlib.pyplot as plt

plt.figure(figsize=(12, 6))
sns.boxplot(data=heart, x='Sex', y='MortalityRate', hue='CauseOfDeath')
plt.title('Mortality Rates by Sex and Cause of Death')
plt.savefig('Output_plot/Mortality Rates by Sex and Cause of Death.jpg', format='jpg')
plt.show()



# Print a List of columns 
print(heart.columns)


#@title Race Based Average Mortality Rates by Cause of Death

# Define a dictionary for the custom color palette
custom_palette = {
    'All heart disease': '#FFA500',  # Orange color
    'All stroke': '#4682B4',         # Light blue color
    'Cardiovascular disease (CVD)': '#FF0000',  # Light red color
    'Coronary heart disease (CHD)': '#008000',  # Light green color
    'Heart failure': '#800080'       # Light purple color
}

# Define the list order of the categories
hue_order = ['All stroke', 'All heart disease', 'Coronary heart disease (CHD)', 'Cardiovascular disease (CVD)', 'Heart failure']

# Calculate yearly average mortality rates by cause of death
yearly_avg = heart.groupby(['Year', 'CauseOfDeath'])['MortalityRate'].mean().reset_index()

# Plot the data with the custom color palette and specified order
plt.figure(figsize=(14, 7))
sns.barplot(data=yearly_avg, x='Year', y='MortalityRate', hue='CauseOfDeath', palette=custom_palette, hue_order=hue_order)
plt.title('Yearly Average Mortality Rates by Cause of Death')
plt.xlabel('Year')
plt.ylabel('Number of Deaths per 100,000')
plt.legend(title='Cause of Death')
plt.savefig('Output_plot/Number of Deaths per 100,000', format='jpg')
plt.show()


#@title Race Based Average Mortality Rates by Cause of Death
yearly_avg = heart.groupby(['Race', 'CauseOfDeath'])['MortalityRate'].mean().reset_index()

# Define a dictionary for the custom color palette
custom_palette = {
    'All heart disease': '#FFA500',  # Orange color
    'All stroke': '#4682B4',         # Light blue color
    'Cardiovascular disease (CVD)': '#FF0000',  # Light red color
    'Coronary heart disease (CHD)': '#008000',  # Light green color
    'Heart failure': '#800080'       # Light purple color
}

# Define the list order of the categories
hue_order = ['All stroke', 'All heart disease', 'Coronary heart disease (CHD)', 'Cardiovascular disease (CVD)', 'Heart failure']

# Plotting 
plt.figure(figsize=(14, 7))
sns.barplot(data=yearly_avg, x='Race', y='MortalityRate', hue='CauseOfDeath', palette=custom_palette, hue_order=hue_order)
plt.title('Race Average Mortality Rates by Cause of Death')
plt.xlabel('Race')
plt.ylabel('Average of Deaths per 100,000')
plt.savefig('Output_plot/Race Average Mortality Rates by Cause of Death', format='jpg')
plt.show()



#@title Seperate Cateogrical Features & Numerical Features
import numpy as np
cat_cols=heart.select_dtypes(include=['object']).columns
num_cols = heart.select_dtypes(include=np.number).columns.tolist()
print("Categorical Variables:")
print(cat_cols)
print("Numerical Variables:")
print(num_cols)


#@title Display skewness of each numerical attribute
for col in num_cols:
    print(col)
    print('Skew :', round(heart[col].skew(), 2))
    plt.figure(figsize = (15, 4))
    plt.subplot(1, 2, 1)
    heart[col].hist(grid=False)
    plt.ylabel('count')
    plt.subplot(1, 2, 2)
    sns.boxplot(x=heart[col])
    plt.show()


# Calculate the average mortality rate by state
avg_mortality_rate = heart.groupby('State')['MortalityRate'].mean().sort_values(ascending=False)

# Create a color map
cmap = plt.get_cmap('rainbow')
colors = cmap(np.linspace(0, 1, len(avg_mortality_rate)))

# Define unique colors for MI and TX
state_colors = {state: color for state, color in zip(avg_mortality_rate.index, colors)}
state_colors['MI'] = 'red'  # Assign red color to Michigan
state_colors['TX'] = 'lightgreen'  # Assign blue color to Texas

# Apply the colors to the bar plot
bar_colors = [state_colors[state] for state in avg_mortality_rate.index]

# Plot the data
plt.figure(figsize=(10, 6))
avg_mortality_rate.plot.bar(color=bar_colors, fontsize=8)
plt.title("State Vs Average Mortality Rate (2010-2019)", fontsize=18)
plt.ylabel('Number of Deaths per 100,000')
plt.savefig('Output_plot/State_Vs_Average_Mortality_Rate_2010_2019.jpg', format='jpg')
plt.show()


# Plot 2: Average MortalityRate by CauseOfDeath
plt.figure(figsize=(10,6))
heart.groupby('CauseOfDeath')['MortalityRate'].mean().sort_values(ascending=False).plot.bar(fontsize=12).set_title("CauseOfDeath Vs Average Mortality Rate (2010-2019)", fontsize=18)
plt.ylabel('Number of Deaths per 100,000')
plt.show()


# Plot 3: Average MortalityRate by AgeGroup
plt.figure(figsize=(10,6))
heart.groupby('AgeGroup')['MortalityRate'].mean().sort_values(ascending=False).plot.bar(fontsize=12).set_title("Average AgeGroup Vs Mortality Rate (2010-2019)", fontsize=18)
plt.ylabel('Number of Deaths per 100,000')
plt.show()


# Plot 4: Average MortalityRate by Race
plt.figure(figsize=(10,6))
heart.groupby('Race')['MortalityRate'].mean().sort_values(ascending=False).plot.bar(fontsize=12).set_title("Average Race Vs Mortality Rate (2010-2019)", fontsize=18)
plt.ylabel('Number of Deaths per 100,000')
plt.show()


# Plot 5: Average MortalityRate by Sex
plt.figure(figsize=(10,6))
heart.groupby('Sex')['MortalityRate'].mean().sort_values(ascending=False).plot.bar(fontsize=12).set_title("Average Sex Vs Mortality Rate (2010-2019)", fontsize=18)
plt.ylabel('Number of Deaths per 100,000')
plt.show()


# Plot 6: Average MortalityRate by Year (if Year is considered categorical for this analysis)
plt.figure(figsize=(10,6))
heart.groupby('Year')['MortalityRate'].mean().sort_values(ascending=False).plot.bar(fontsize=12).set_title("Average Year Vs Mortality Rate (2010-2019)", fontsize=18)
plt.ylabel('Number of Deaths per 100,000')
plt.show()


# Plot 1: Average MortalityRate by State (Top 5 States)
plt.figure(figsize=(10,6))
top_states = heart.groupby('State')['MortalityRate'].mean().sort_values(ascending=False).head(5)
top_states.plot.bar(fontsize=12, color='skyblue').set_title("Top 5 States Vs Average Mortality Rate (2010-2019) ", fontsize=18)
plt.ylabel('Number of Deaths per 100,000')
plt.show()



# Plot 2: Average MortalityRate by State (Bottom 5 States)
plt.figure(figsize=(10,6))
top_states = heart.groupby('State')['MortalityRate'].mean().sort_values(ascending=False).tail(5)
top_states.plot.bar(fontsize=12, color='red').set_title("Bottom 5 States Vs Average Mortality Rate (2010-2019) ", fontsize=18)
plt.ylabel('Number of Deaths per 100,000')
plt.show()


# Plot 3: Average MortalityRate by County (Top 5 Counties)
plt.figure(figsize=(10,6))
top_county = heart.groupby('County')['MortalityRate'].mean().sort_values(ascending=False).head(5)
top_county.plot.bar(fontsize=12, color='skyblue').set_title("Top 5 Counties Vs Average Mortality Rate (2010-2019)", fontsize=18)
plt.ylabel('Number of Deaths per 100,000')
plt.show()


# Plot 4: Average MortalityRate by County (Bottom 5 Counties)
plt.figure(figsize=(10,6))
top_states = heart.groupby('County')['MortalityRate'].mean().sort_values(ascending=False).tail(5)
top_states.plot.bar(fontsize=12, color='red').set_title("Bottom 5 Counties Vs Average Mortality Rate (2010-2019) ", fontsize=18)
plt.ylabel('Number of Deaths per 100,000')
plt.show()


# Plot 5: Average MortalityRate by Sex
plt.figure(figsize=(10,6))
heart.groupby('Sex')['MortalityRate'].mean().sort_values(ascending=False).plot.bar(fontsize=12).set_title("Average Sex Vs Mortality Rate (2010-2019)", fontsize=18)
plt.ylabel('Number of Deaths per 100,000')
plt.show()


# Plot 6: Average MortalityRate by Year (if Year is considered categorical for this analysis)
plt.figure(figsize=(10,6))
heart.groupby('Year')['MortalityRate'].mean().sort_values(ascending=False).plot.bar(fontsize=12).set_title("Average Year Vs Mortality Rate (2010-2019)", fontsize=18)
plt.ylabel('Number of Deaths per 100,000')
plt.show()


# Plot 1: Average MortalityRate by State (Top 5 States)
plt.figure(figsize=(10,6))
top_states = heart.groupby('State')['MortalityRate'].mean().sort_values(ascending=False).head(5)
top_states.plot.bar(fontsize=12, color='skyblue').set_title("Top 5 States Vs Average Mortality Rate (2010-2019) ", fontsize=18)
plt.ylabel('Number of Deaths per 100,000')
plt.show()


# Plot 2: Average MortalityRate by State (Bottom 5 States)
plt.figure(figsize=(10,6))
top_states = heart.groupby('State')['MortalityRate'].mean().sort_values(ascending=False).tail(5)
top_states.plot.bar(fontsize=12, color='red').set_title("Bottom 5 States Vs Average Mortality Rate (2010-2019) ", fontsize=18)
plt.ylabel('Number of Deaths per 100,000')
plt.show()


# Plot 3: Average MortalityRate by County (Top 5 Counties)
plt.figure(figsize=(10,6))
top_county = heart.groupby('County')['MortalityRate'].mean().sort_values(ascending=False).head(5)
top_county.plot.bar(fontsize=12, color='skyblue').set_title("Top 5 Counties Vs Average Mortality Rate (2010-2019)", fontsize=18)
plt.ylabel('Number of Deaths per 100,000')
plt.show()


# Plot 4: Average MortalityRate by County (Bottom 5 Counties)
plt.figure(figsize=(10,6))
top_states = heart.groupby('County')['MortalityRate'].mean().sort_values(ascending=False).tail(5)
top_states.plot.bar(fontsize=12, color='red').set_title("Bottom 5 Counties Vs Average Mortality Rate (2010-2019) ", fontsize=18)
plt.ylabel('Number of Deaths per 100,000')
plt.show()


# Plot 5: Average MortalityRate by LocationID (Top 5 LocationID)
plt.figure(figsize=(10,6))
top_county = heart.groupby('LocationID')['MortalityRate'].mean().sort_values(ascending=False).head(5)
top_county.plot.bar(fontsize=12, color='skyblue').set_title("Top 5 LocationID Vs Average Mortality Rate  (2010-2019)", fontsize=18)
plt.ylabel('Number of Deaths per 100,000')
plt.show()


# Plot 6: Average MortalityRate by LocationID (Top 5 LocationID)
plt.figure(figsize=(10,6))
top_county = heart.groupby('LocationID')['MortalityRate'].mean().sort_values(ascending=False).tail(5)
top_county.plot.bar(fontsize=12, color='red').set_title("Bottom 5 Location ID Vs Average Mortality Rate (2010-2019)", fontsize=18)
plt.ylabel('Number of Deaths per 100,000')
plt.show()






