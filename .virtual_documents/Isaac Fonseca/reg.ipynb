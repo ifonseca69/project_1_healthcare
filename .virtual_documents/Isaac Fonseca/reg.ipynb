# Import the required libraries and dependencies
import pandas as pd
import datetime as dt
import numpy as np
import seaborn as sns
import matplotlib.pyplot as plt
import datetime
from sklearn.model_selection import train_test_split
from sklearn.linear_model import LinearRegression
import matplotlib.pyplot as plt





mortality_df = pd.read_csv('resources\cleaned.csv')

mortality_df.info()


# Strip any leading/trailing spaces from column names
mortality_df.columns = mortality_df.columns.str.strip()





# Select only numeric columns
numeric_df = mortality_df.select_dtypes(include=[float, int])
# Display the resulting DataFrame
print(numeric_df)


display(numeric_df.head())
display(numeric_df.tail())


# Apply regresion model for the Year and MortalityRate and training the model with the numeric_df
filtered_df = numeric_df[(numeric_df['Year'] >= 2010) & (numeric_df['Year'] <= 2019)]

# Group by 'Year' and calculate the mean 'MortalityRate'
grouped_df = filtered_df.groupby('Year').mean().reset_index()

# Define X and y
X = grouped_df[['Year']]
y = grouped_df['MortalityRate']

# Split the data into training and testing sets 
X_train, X_test, y_train, y_test = train_test_split(X, y, test_size=0.2, random_state=42)

X_train = grouped_df.loc[(grouped_df['Year'] >= 2010) & (grouped_df['Year'] <= 2015),'Year'].values.reshape(-1, 1)
y_train = grouped_df.loc[(grouped_df['Year'] >= 2010) & (grouped_df['Year'] <= 2015),'MortalityRate'].values

X_test = grouped_df.loc[(grouped_df['Year'] > 2015),'Year'].values.reshape(-1, 1)
y_test = grouped_df.loc[(grouped_df['Year'] > 2015),'MortalityRate'].values


# X_test = np.asarray([2020, 2021, 2022, 2023]).reshape(-1, 1)
# y_test = np.asarray([0,0,0,0]).reshape(-1, 1)
# Create and fit the regression model
model = LinearRegression()
model.fit(X_train, y_train)

# Predict on the test set
y_pred = model.predict(X_test)

# Plot the results
# plt.scatter(X_test, y_test, color='blue', label='Actual')
# plt.scatter(X_train, y_train, color='blue', label='Actual')
# plt.plot(X_train, y_train, color='blue', label='Actual')
plt.scatter(X_test, y_test, color='blue', label='Actual')
plt.plot(X_test, y_test, color='blue', label='Actual')
plt.plot(X_test, y_pred, color='red', linewidth=2, label='Predicted')
plt.xlabel('Year')
plt.ylabel('Mortality Rate per 100,000 persons')
plt.title('Mortality Rate Prediction (2010-2017)')
plt.legend()
plt.show()

# Print the model coefficients
print(f"Intercept: {model.intercept_}")
print(f"Coefficient: {model.coef_[0]}")
print(f"Mean Absolute error: {np.mean(np.abs(y_test - y_pred))}")



grouped_df.head()





numeric_df.to_csv('./output/numeric_mortality.csv', index=True)


temp_df = mortality_df[(mortality_df['Year'] >= 2010) & (mortality_df['Year'] <= 2019)]


temp_df[['Year', 'MortalityRate']].groupby('Year').mean().reset_index()


temp_df.loc[:, 'Sex_Cat_codes'] = temp_df['Sex'].astype("category")
temp_df.loc[:, 'Sex_Cat_codes'] = temp_df.loc[:, 'Sex_Cat_codes'].cat.codes


temp_df.info()


temp_df.head()


year_sex_grouped_df = temp_df[['Year', 'MortalityRate','Sex_Cat_codes']].groupby(['Year','Sex_Cat_codes']).mean().reset_index()


# Add a category by sex to predict the next 5 years

X_train = year_sex_grouped_df[['Year','Sex_Cat_codes']].values
y_train = year_sex_grouped_df['MortalityRate'].values



# Create and fit the regression model
model = LinearRegression()
model.fit(X_train, y_train)


# Plot the results
# plt.scatter(X_test, y_test, color='blue', label='Actual')
# plt.scatter(X_train, y_train, color='blue', label='Actual')
# plt.plot(X_train, y_train, color='blue', label='Actual')
test_list = []
test_years = list(range(2020, 2025, 1))
test_x = {}
for s in [0,1,2]:
    test_x[s] = []
    for i in test_years:
        test_x[s].append([i,s])
for s, colors_, sex_ in zip(test_x.keys(), ['red', 'blue','green'], ['Male','Overall', 'Female']):
    X_test = np.asarray(test_x[s])
    y_test = np.asarray([0,0,0,0]).reshape(-1, 1)
    y_pred = model.predict(X_test)
    plt.plot(test_years, y_pred, color=colors_, linewidth=2, label=sex_)
    # plt.plot(test_years, y_pred, color='red', linewidth=2, label='Predicted')
plt.xlabel('Year')
plt.ylabel('Mortality Rate per 100,000 persons')
plt.title('Mortality Rate by Sex Prediction (2020-2025)')
plt.legend()
plt.show()

# Print the model coefficients
print(f"Intercept: {model.intercept_}")
print(f"Coefficient: {model.coef_[0]}")






