{
 "cells": [
  {
   "cell_type": "code",
   "execution_count": null,
   "id": "3750d98f-4d91-46d0-9973-0501a16136f1",
   "metadata": {},
   "outputs": [],
   "source": [
    "#Data Cleaning\n",
    "##This is the first step in our data analysis"
   ]
  },
  {
   "cell_type": "code",
   "execution_count": null,
   "id": "be9b8c05",
   "metadata": {},
   "outputs": [],
   "source": []
  }
 ],
 "metadata": {
  "kernelspec": {
   "display_name": "Python 3 (ipykernel)",
   "language": "python",
   "name": "python3"
  },
  "language_info": {
   "codemirror_mode": {
    "name": "ipython",
    "version": 3
   },
   "file_extension": ".py",
   "mimetype": "text/x-python",
   "name": "python",
   "nbconvert_exporter": "python",
   "pygments_lexer": "ipython3",
   "version": "3.11.7"
  }
 },
 "nbformat": 4,
 "nbformat_minor": 5
}
